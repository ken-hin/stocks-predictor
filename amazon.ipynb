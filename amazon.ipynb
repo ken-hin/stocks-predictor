{
 "cells": [
  {
   "cell_type": "code",
   "id": "initial_id",
   "metadata": {
    "collapsed": true,
    "ExecuteTime": {
     "end_time": "2024-12-09T22:55:49.600027Z",
     "start_time": "2024-12-09T22:55:49.540389Z"
    }
   },
   "source": [
    "# Import Necessary Libraries\n",
    "import pandas as pd\n",
    "import seaborn as sns\n",
    "import kagglehub\n",
    "import os\n",
    "import shutil"
   ],
   "outputs": [],
   "execution_count": 1
  },
  {
   "metadata": {
    "ExecuteTime": {
     "end_time": "2024-12-09T22:57:46.365440Z",
     "start_time": "2024-12-09T22:57:45.915534Z"
    }
   },
   "cell_type": "code",
   "source": [
    "# Set target directory for dataset to download to\n",
    "data_directory = os.getcwd() + '/data'\n",
    "# Download most recent dataset from Kaggle and copy to data directory\n",
    "shutil.copytree(kagglehub.dataset_download(\"nikhil1e9/netflix-stock-price\"), data_directory, dirs_exist_ok=True )"
   ],
   "id": "3f60fa9ae0dd57e3",
   "outputs": [
    {
     "data": {
      "text/plain": [
       "'/Users/kennethinman/Desktop/Coding/python/stocks-predictor/data'"
      ]
     },
     "execution_count": 2,
     "metadata": {},
     "output_type": "execute_result"
    }
   ],
   "execution_count": 2
  },
  {
   "metadata": {},
   "cell_type": "code",
   "outputs": [],
   "execution_count": null,
   "source": [
    "AMZ_daily = pd.read_csv(data_directory + '/AMAZON_daily.csv')\n",
    "AMZ_monthly = pd.read_csv(data_directory + '/AMAZON_monthly.csv')\n",
    "AMZ_weekly = pd.read_csv(data_directory + '/AMAZON_weekly.csv')"
   ],
   "id": "4791d6a221809cd0"
  },
  {
   "metadata": {},
   "cell_type": "code",
   "outputs": [],
   "execution_count": null,
   "source": [
    "AMZ_daily['Date'] = pd.to_datetime(AMZ_daily['Date'])\n",
    "AMZ_daily_inRange = AMZ_daily[(AMZ_daily['Date'].dt.year >= 2024) & (AMZ_daily['Date'].dt.year < 2025)]"
   ],
   "id": "f30d20a3ff4ec8d9"
  },
  {
   "metadata": {},
   "cell_type": "code",
   "outputs": [],
   "execution_count": null,
   "source": "AMZ_daily_inRange",
   "id": "99bdb4f3f57023e5"
  }
 ],
 "metadata": {
  "kernelspec": {
   "display_name": "Python 3",
   "language": "python",
   "name": "python3"
  },
  "language_info": {
   "codemirror_mode": {
    "name": "ipython",
    "version": 2
   },
   "file_extension": ".py",
   "mimetype": "text/x-python",
   "name": "python",
   "nbconvert_exporter": "python",
   "pygments_lexer": "ipython2",
   "version": "2.7.6"
  }
 },
 "nbformat": 4,
 "nbformat_minor": 5
}

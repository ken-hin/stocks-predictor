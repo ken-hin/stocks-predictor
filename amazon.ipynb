{
 "cells": [
  {
   "cell_type": "code",
   "id": "initial_id",
   "metadata": {
    "collapsed": true,
    "ExecuteTime": {
     "end_time": "2024-12-09T23:06:26.576308Z",
     "start_time": "2024-12-09T23:06:26.522082Z"
    }
   },
   "source": [
    "# Import Necessary Libraries\n",
    "import pandas as pd\n",
    "import seaborn as sns\n",
    "import kagglehub\n",
    "import os\n",
    "import shutil"
   ],
   "outputs": [],
   "execution_count": 1
  },
  {
   "metadata": {
    "ExecuteTime": {
     "end_time": "2024-12-09T23:06:26.963293Z",
     "start_time": "2024-12-09T23:06:26.581230Z"
    }
   },
   "cell_type": "code",
   "source": [
    "# Set target directory for dataset to download to\n",
    "data_directory = os.getcwd() + '/data'\n",
    "# Download most recent dataset from Kaggle and copy to data directory\n",
    "shutil.copytree(kagglehub.dataset_download(\"nikhil1e9/netflix-stock-price\"), data_directory, dirs_exist_ok=True )"
   ],
   "id": "3f60fa9ae0dd57e3",
   "outputs": [
    {
     "data": {
      "text/plain": [
       "'/Users/kennethinman/Desktop/Coding/python/stocks-predictor/data'"
      ]
     },
     "execution_count": 2,
     "metadata": {},
     "output_type": "execute_result"
    }
   ],
   "execution_count": 2
  },
  {
   "metadata": {
    "ExecuteTime": {
     "end_time": "2024-12-09T23:06:27.096967Z",
     "start_time": "2024-12-09T23:06:27.082180Z"
    }
   },
   "cell_type": "code",
   "source": [
    "AMZ_daily = pd.read_csv(data_directory + '/AMAZON_daily.csv')\n",
    "AMZ_monthly = pd.read_csv(data_directory + '/AMAZON_monthly.csv')\n",
    "AMZ_weekly = pd.read_csv(data_directory + '/AMAZON_weekly.csv')"
   ],
   "id": "4791d6a221809cd0",
   "outputs": [],
   "execution_count": 3
  },
  {
   "metadata": {
    "ExecuteTime": {
     "end_time": "2024-12-09T23:06:27.114651Z",
     "start_time": "2024-12-09T23:06:27.106714Z"
    }
   },
   "cell_type": "code",
   "source": [
    "AMZ_daily['Date'] = pd.to_datetime(AMZ_daily['Date'])\n",
    "AMZ_daily_inRange = AMZ_daily[(AMZ_daily['Date'].dt.year >= 2024) & (AMZ_daily['Date'].dt.year < 2025)]"
   ],
   "id": "f30d20a3ff4ec8d9",
   "outputs": [],
   "execution_count": 4
  },
  {
   "metadata": {
    "ExecuteTime": {
     "end_time": "2024-12-09T23:06:27.126750Z",
     "start_time": "2024-12-09T23:06:27.121796Z"
    }
   },
   "cell_type": "code",
   "source": "AMZ_daily_inRange",
   "id": "99bdb4f3f57023e5",
   "outputs": [
    {
     "data": {
      "text/plain": [
       "           Date        Open        High         Low       Close   Adj Close  \\\n",
       "6701 2024-01-02  151.539993  152.380005  148.389999  149.929993  149.929993   \n",
       "6702 2024-01-03  149.199997  151.050003  148.330002  148.470001  148.470001   \n",
       "6703 2024-01-04  145.589996  147.380005  144.050003  144.570007  144.570007   \n",
       "6704 2024-01-05  144.690002  146.589996  144.529999  145.240005  145.240005   \n",
       "6705 2024-01-08  146.740005  149.399994  146.149994  149.100006  149.100006   \n",
       "...         ...         ...         ...         ...         ...         ...   \n",
       "6932 2024-12-02  209.960007  212.990005  209.509995  210.710007  210.710007   \n",
       "6933 2024-12-03  210.309998  214.020004  209.649994  213.440002  213.440002   \n",
       "6934 2024-12-04  215.960007  220.000000  215.750000  218.160004  218.160004   \n",
       "6935 2024-12-05  218.029999  222.149994  217.300003  220.550003  220.550003   \n",
       "6936 2024-12-06  220.750000  227.149994  220.600006  227.029999  227.029999   \n",
       "\n",
       "        Volume  \n",
       "6701  47339400  \n",
       "6702  49425500  \n",
       "6703  56039800  \n",
       "6704  45124800  \n",
       "6705  46757100  \n",
       "...        ...  \n",
       "6932  39523200  \n",
       "6933  32214800  \n",
       "6934  48745700  \n",
       "6935  41140200  \n",
       "6936  44123400  \n",
       "\n",
       "[236 rows x 7 columns]"
      ],
      "text/html": [
       "<div>\n",
       "<style scoped>\n",
       "    .dataframe tbody tr th:only-of-type {\n",
       "        vertical-align: middle;\n",
       "    }\n",
       "\n",
       "    .dataframe tbody tr th {\n",
       "        vertical-align: top;\n",
       "    }\n",
       "\n",
       "    .dataframe thead th {\n",
       "        text-align: right;\n",
       "    }\n",
       "</style>\n",
       "<table border=\"1\" class=\"dataframe\">\n",
       "  <thead>\n",
       "    <tr style=\"text-align: right;\">\n",
       "      <th></th>\n",
       "      <th>Date</th>\n",
       "      <th>Open</th>\n",
       "      <th>High</th>\n",
       "      <th>Low</th>\n",
       "      <th>Close</th>\n",
       "      <th>Adj Close</th>\n",
       "      <th>Volume</th>\n",
       "    </tr>\n",
       "  </thead>\n",
       "  <tbody>\n",
       "    <tr>\n",
       "      <th>6701</th>\n",
       "      <td>2024-01-02</td>\n",
       "      <td>151.539993</td>\n",
       "      <td>152.380005</td>\n",
       "      <td>148.389999</td>\n",
       "      <td>149.929993</td>\n",
       "      <td>149.929993</td>\n",
       "      <td>47339400</td>\n",
       "    </tr>\n",
       "    <tr>\n",
       "      <th>6702</th>\n",
       "      <td>2024-01-03</td>\n",
       "      <td>149.199997</td>\n",
       "      <td>151.050003</td>\n",
       "      <td>148.330002</td>\n",
       "      <td>148.470001</td>\n",
       "      <td>148.470001</td>\n",
       "      <td>49425500</td>\n",
       "    </tr>\n",
       "    <tr>\n",
       "      <th>6703</th>\n",
       "      <td>2024-01-04</td>\n",
       "      <td>145.589996</td>\n",
       "      <td>147.380005</td>\n",
       "      <td>144.050003</td>\n",
       "      <td>144.570007</td>\n",
       "      <td>144.570007</td>\n",
       "      <td>56039800</td>\n",
       "    </tr>\n",
       "    <tr>\n",
       "      <th>6704</th>\n",
       "      <td>2024-01-05</td>\n",
       "      <td>144.690002</td>\n",
       "      <td>146.589996</td>\n",
       "      <td>144.529999</td>\n",
       "      <td>145.240005</td>\n",
       "      <td>145.240005</td>\n",
       "      <td>45124800</td>\n",
       "    </tr>\n",
       "    <tr>\n",
       "      <th>6705</th>\n",
       "      <td>2024-01-08</td>\n",
       "      <td>146.740005</td>\n",
       "      <td>149.399994</td>\n",
       "      <td>146.149994</td>\n",
       "      <td>149.100006</td>\n",
       "      <td>149.100006</td>\n",
       "      <td>46757100</td>\n",
       "    </tr>\n",
       "    <tr>\n",
       "      <th>...</th>\n",
       "      <td>...</td>\n",
       "      <td>...</td>\n",
       "      <td>...</td>\n",
       "      <td>...</td>\n",
       "      <td>...</td>\n",
       "      <td>...</td>\n",
       "      <td>...</td>\n",
       "    </tr>\n",
       "    <tr>\n",
       "      <th>6932</th>\n",
       "      <td>2024-12-02</td>\n",
       "      <td>209.960007</td>\n",
       "      <td>212.990005</td>\n",
       "      <td>209.509995</td>\n",
       "      <td>210.710007</td>\n",
       "      <td>210.710007</td>\n",
       "      <td>39523200</td>\n",
       "    </tr>\n",
       "    <tr>\n",
       "      <th>6933</th>\n",
       "      <td>2024-12-03</td>\n",
       "      <td>210.309998</td>\n",
       "      <td>214.020004</td>\n",
       "      <td>209.649994</td>\n",
       "      <td>213.440002</td>\n",
       "      <td>213.440002</td>\n",
       "      <td>32214800</td>\n",
       "    </tr>\n",
       "    <tr>\n",
       "      <th>6934</th>\n",
       "      <td>2024-12-04</td>\n",
       "      <td>215.960007</td>\n",
       "      <td>220.000000</td>\n",
       "      <td>215.750000</td>\n",
       "      <td>218.160004</td>\n",
       "      <td>218.160004</td>\n",
       "      <td>48745700</td>\n",
       "    </tr>\n",
       "    <tr>\n",
       "      <th>6935</th>\n",
       "      <td>2024-12-05</td>\n",
       "      <td>218.029999</td>\n",
       "      <td>222.149994</td>\n",
       "      <td>217.300003</td>\n",
       "      <td>220.550003</td>\n",
       "      <td>220.550003</td>\n",
       "      <td>41140200</td>\n",
       "    </tr>\n",
       "    <tr>\n",
       "      <th>6936</th>\n",
       "      <td>2024-12-06</td>\n",
       "      <td>220.750000</td>\n",
       "      <td>227.149994</td>\n",
       "      <td>220.600006</td>\n",
       "      <td>227.029999</td>\n",
       "      <td>227.029999</td>\n",
       "      <td>44123400</td>\n",
       "    </tr>\n",
       "  </tbody>\n",
       "</table>\n",
       "<p>236 rows × 7 columns</p>\n",
       "</div>"
      ]
     },
     "execution_count": 5,
     "metadata": {},
     "output_type": "execute_result"
    }
   ],
   "execution_count": 5
  }
 ],
 "metadata": {
  "kernelspec": {
   "display_name": "Python 3",
   "language": "python",
   "name": "python3"
  },
  "language_info": {
   "codemirror_mode": {
    "name": "ipython",
    "version": 2
   },
   "file_extension": ".py",
   "mimetype": "text/x-python",
   "name": "python",
   "nbconvert_exporter": "python",
   "pygments_lexer": "ipython2",
   "version": "2.7.6"
  }
 },
 "nbformat": 4,
 "nbformat_minor": 5
}
